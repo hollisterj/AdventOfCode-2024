{
 "cells": [
  {
   "cell_type": "markdown",
   "id": "e37094e6",
   "metadata": {},
   "source": [
    "### Day 4"
   ]
  },
  {
   "cell_type": "markdown",
   "id": "56be08f9",
   "metadata": {},
   "source": [
    "## Part 1"
   ]
  },
  {
   "cell_type": "code",
   "execution_count": 1,
   "id": "248b911d",
   "metadata": {},
   "outputs": [],
   "source": [
    "import numpy as np\n",
    "import re"
   ]
  },
  {
   "cell_type": "code",
   "execution_count": 2,
   "id": "02ab799c",
   "metadata": {},
   "outputs": [],
   "source": [
    "with open('Day4.input') as fin:\n",
    "    contents = fin.readlines()\n",
    "\n",
    "# Convert to 2d numpy array\n",
    "array = []\n",
    "for line in contents:\n",
    "    array.append([y for y in line.replace('\\n','')])\n",
    "array = np.array(array)"
   ]
  },
  {
   "cell_type": "code",
   "execution_count": 3,
   "id": "daf2a295",
   "metadata": {},
   "outputs": [],
   "source": [
    "def search_xmas_samx(sequence):\n",
    "    a = ''.join(sequence)\n",
    "    # Count instances of XMAS and SAMX along sequence\n",
    "    count1 = len(re.findall('(XMAS)', a))\n",
    "    count2 = len(re.findall('(SAMX)', a))\n",
    "    return count1 + count2"
   ]
  },
  {
   "cell_type": "code",
   "execution_count": 4,
   "id": "d4da8382",
   "metadata": {},
   "outputs": [
    {
     "name": "stdout",
     "output_type": "stream",
     "text": [
      "2521\n"
     ]
    }
   ],
   "source": [
    "nrows, ncols = np.shape(array)\n",
    "count = 0\n",
    "\n",
    "# Traverse rows\n",
    "for x in range(nrows):\n",
    "    count = count + search_xmas_samx(array[x,:])\n",
    "\n",
    "# Traverse cols\n",
    "for x in range(ncols):\n",
    "    count = count + search_xmas_samx(array[:,x])\n",
    "\n",
    "# Get indices of SE_NW diagonal\n",
    "diags = [array[::-1,:].diagonal(i) for i in range(-array.shape[0]+1,array.shape[1])]\n",
    "\n",
    "# Get indices of NE_SW diagonal\n",
    "diags.extend(array.diagonal(i) for i in range(array.shape[1]-1,-array.shape[0],-1))\n",
    "\n",
    "# Search diags\n",
    "for x in [n.tolist() for n in diags]:\n",
    "    count = count + search_xmas_samx(x)\n",
    "print(count)"
   ]
  },
  {
   "cell_type": "markdown",
   "id": "23813318",
   "metadata": {},
   "source": [
    "## Part 2"
   ]
  },
  {
   "cell_type": "code",
   "execution_count": 5,
   "id": "96ea4cdc",
   "metadata": {},
   "outputs": [],
   "source": [
    "def get_cross_idx(center):\n",
    "    rowidx = center[0]\n",
    "    colidx = center[1]\n",
    "    \n",
    "    nw = (rowidx - 1, colidx - 1)\n",
    "    ne = (rowidx - 1, colidx + 1)\n",
    "    sw = (rowidx + 1, colidx - 1)\n",
    "    se = (rowidx + 1, colidx + 1)\n",
    "    \n",
    "    cross1 = [nw, center, se]\n",
    "    cross2 = [sw, center, ne]\n",
    "    \n",
    "    return cross1, cross2\n",
    "\n",
    "def pair_off(my_list):\n",
    "    for i in range(0, len(my_list), 2): \n",
    "        yield my_list[i:i + 2]\n"
   ]
  },
  {
   "cell_type": "code",
   "execution_count": 6,
   "id": "db43da93",
   "metadata": {},
   "outputs": [
    {
     "name": "stdout",
     "output_type": "stream",
     "text": [
      "1912\n"
     ]
    }
   ],
   "source": [
    "row_idx, col_idx = np.where(array == 'A')\n",
    "a_idx = list(zip(row_idx, col_idx))\n",
    "\n",
    "sequences = []\n",
    "for a in a_idx:\n",
    "    crosses = get_cross_idx(a)\n",
    "    for cross in crosses:\n",
    "        seq = ''\n",
    "        invalid_cross = False\n",
    "        for s in cross:\n",
    "            if s[0] < 0 or s[1] <0:\n",
    "                break\n",
    "            try:\n",
    "                val = array[s]\n",
    "            except IndexError:\n",
    "                invalid_cross = True\n",
    "                break\n",
    "            seq = seq + val\n",
    "        if len(seq) == 3:\n",
    "            sequences.append(seq)\n",
    "        if invalid_cross:\n",
    "            continue # to next cross\n",
    "\n",
    "x_mas_count = 0\n",
    "for x in pair_off(sequences):\n",
    "    if ('MAS' in x[0] or 'SAM' in x[0]) and \\\n",
    "       ('MAS' in x[1] or 'SAM' in x[1]):\n",
    "        x_mas_count = x_mas_count + 1\n",
    "print(x_mas_count)"
   ]
  },
  {
   "cell_type": "code",
   "execution_count": null,
   "id": "7a51569d",
   "metadata": {},
   "outputs": [],
   "source": []
  }
 ],
 "metadata": {
  "kernelspec": {
   "display_name": "Python 3 (ipykernel)",
   "language": "python",
   "name": "python3"
  },
  "language_info": {
   "codemirror_mode": {
    "name": "ipython",
    "version": 3
   },
   "file_extension": ".py",
   "mimetype": "text/x-python",
   "name": "python",
   "nbconvert_exporter": "python",
   "pygments_lexer": "ipython3",
   "version": "3.10.5"
  }
 },
 "nbformat": 4,
 "nbformat_minor": 5
}
