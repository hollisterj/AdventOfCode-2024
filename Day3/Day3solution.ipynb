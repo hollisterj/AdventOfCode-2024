{
 "cells": [
  {
   "cell_type": "markdown",
   "id": "7e681211",
   "metadata": {},
   "source": [
    "# Day 3"
   ]
  },
  {
   "cell_type": "markdown",
   "id": "d431ee12",
   "metadata": {},
   "source": [
    "## Part 1"
   ]
  },
  {
   "cell_type": "code",
   "execution_count": 1,
   "id": "a5dd1d8c",
   "metadata": {},
   "outputs": [],
   "source": [
    "import re\n",
    "import numpy as np"
   ]
  },
  {
   "cell_type": "code",
   "execution_count": 2,
   "id": "bcad08d0",
   "metadata": {},
   "outputs": [],
   "source": [
    "def perform_mul(text):\n",
    "    return np.prod([int(x) for x in text.split('mul(')[-1].replace(')','').split(',')])"
   ]
  },
  {
   "cell_type": "code",
   "execution_count": 9,
   "id": "5fd788b1",
   "metadata": {},
   "outputs": [],
   "source": [
    "with open('Day3.input', 'r') as fin:\n",
    "    contents = fin.read()\n",
    "    \n",
    "valid_mul = 'mul\\(\\d*,\\d*\\)'\n",
    "valid_data = re.findall(valid_mul, contents)"
   ]
  },
  {
   "cell_type": "code",
   "execution_count": 10,
   "id": "0f4d5f91",
   "metadata": {},
   "outputs": [
    {
     "name": "stdout",
     "output_type": "stream",
     "text": [
      "173785482\n"
     ]
    }
   ],
   "source": [
    "total = 0\n",
    "for x in valid_data:\n",
    "    total = total + perform_mul(x)\n",
    "print(total)"
   ]
  },
  {
   "cell_type": "markdown",
   "id": "80dd1d30",
   "metadata": {},
   "source": [
    "## Part 2"
   ]
  },
  {
   "cell_type": "code",
   "execution_count": 11,
   "id": "85c9d8da",
   "metadata": {},
   "outputs": [],
   "source": [
    "new_data = contents.split('do')"
   ]
  },
  {
   "cell_type": "code",
   "execution_count": 12,
   "id": "418b3b23",
   "metadata": {},
   "outputs": [],
   "source": [
    "# Remove instructions following don't\n",
    "for idx in range(len(new_data) - 1, -1, -1):\n",
    "    if new_data[idx].startswith(\"n't\"):\n",
    "        del new_data[idx]"
   ]
  },
  {
   "cell_type": "code",
   "execution_count": 13,
   "id": "e8b3f7b3",
   "metadata": {},
   "outputs": [],
   "source": [
    "# Extract valid and perform multiplication\n",
    "valid_mul = 'mul\\(\\d*,\\d*\\)'\n",
    "valid_data = re.findall(valid_mul, ''.join(new_data))"
   ]
  },
  {
   "cell_type": "code",
   "execution_count": 14,
   "id": "d5782b8d",
   "metadata": {},
   "outputs": [
    {
     "name": "stdout",
     "output_type": "stream",
     "text": [
      "83158140\n"
     ]
    }
   ],
   "source": [
    "total = 0\n",
    "for x in valid_data:\n",
    "    total = total + perform_mul(x)\n",
    "print(total)"
   ]
  }
 ],
 "metadata": {
  "kernelspec": {
   "display_name": "Python 3 (ipykernel)",
   "language": "python",
   "name": "python3"
  },
  "language_info": {
   "codemirror_mode": {
    "name": "ipython",
    "version": 3
   },
   "file_extension": ".py",
   "mimetype": "text/x-python",
   "name": "python",
   "nbconvert_exporter": "python",
   "pygments_lexer": "ipython3",
   "version": "3.10.5"
  }
 },
 "nbformat": 4,
 "nbformat_minor": 5
}
