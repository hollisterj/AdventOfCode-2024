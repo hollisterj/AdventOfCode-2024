{
 "cells": [
  {
   "cell_type": "markdown",
   "id": "197f8039",
   "metadata": {},
   "source": [
    "# Day 2"
   ]
  },
  {
   "cell_type": "markdown",
   "id": "ad0ffaf7",
   "metadata": {},
   "source": [
    "## Part 1"
   ]
  },
  {
   "cell_type": "markdown",
   "id": "e948a9d3",
   "metadata": {},
   "source": [
    "### Example input"
   ]
  },
  {
   "cell_type": "code",
   "execution_count": 1,
   "id": "46216d21",
   "metadata": {},
   "outputs": [],
   "source": [
    "import pandas as pd"
   ]
  },
  {
   "cell_type": "code",
   "execution_count": 143,
   "id": "993732c1",
   "metadata": {},
   "outputs": [],
   "source": [
    "ex_df = pd.read_fwf('day2.example.input', header = None, names = ['col0', 'col1', 'col2', 'col3', 'col4'])"
   ]
  },
  {
   "cell_type": "code",
   "execution_count": 144,
   "id": "d952ca98",
   "metadata": {},
   "outputs": [
    {
     "data": {
      "text/html": [
       "<div>\n",
       "<style scoped>\n",
       "    .dataframe tbody tr th:only-of-type {\n",
       "        vertical-align: middle;\n",
       "    }\n",
       "\n",
       "    .dataframe tbody tr th {\n",
       "        vertical-align: top;\n",
       "    }\n",
       "\n",
       "    .dataframe thead th {\n",
       "        text-align: right;\n",
       "    }\n",
       "</style>\n",
       "<table border=\"1\" class=\"dataframe\">\n",
       "  <thead>\n",
       "    <tr style=\"text-align: right;\">\n",
       "      <th></th>\n",
       "      <th>col1</th>\n",
       "      <th>col2</th>\n",
       "      <th>col3</th>\n",
       "      <th>col4</th>\n",
       "    </tr>\n",
       "  </thead>\n",
       "  <tbody>\n",
       "    <tr>\n",
       "      <th>0</th>\n",
       "      <td>-1</td>\n",
       "      <td>-2</td>\n",
       "      <td>-2</td>\n",
       "      <td>-1</td>\n",
       "    </tr>\n",
       "    <tr>\n",
       "      <th>1</th>\n",
       "      <td>1</td>\n",
       "      <td>5</td>\n",
       "      <td>1</td>\n",
       "      <td>1</td>\n",
       "    </tr>\n",
       "    <tr>\n",
       "      <th>2</th>\n",
       "      <td>-2</td>\n",
       "      <td>-1</td>\n",
       "      <td>-4</td>\n",
       "      <td>-1</td>\n",
       "    </tr>\n",
       "    <tr>\n",
       "      <th>3</th>\n",
       "      <td>2</td>\n",
       "      <td>-1</td>\n",
       "      <td>2</td>\n",
       "      <td>1</td>\n",
       "    </tr>\n",
       "    <tr>\n",
       "      <th>4</th>\n",
       "      <td>-2</td>\n",
       "      <td>-2</td>\n",
       "      <td>0</td>\n",
       "      <td>-3</td>\n",
       "    </tr>\n",
       "  </tbody>\n",
       "</table>\n",
       "</div>"
      ],
      "text/plain": [
       "   col1  col2  col3  col4\n",
       "0    -1    -2    -2    -1\n",
       "1     1     5     1     1\n",
       "2    -2    -1    -4    -1\n",
       "3     2    -1     2     1\n",
       "4    -2    -2     0    -3"
      ]
     },
     "execution_count": 144,
     "metadata": {},
     "output_type": "execute_result"
    }
   ],
   "source": [
    "# Get deltas along the row\n",
    "ex_diff_df = ex_df.diff(axis=1).dropna(axis=1)\n",
    "ex_diff_df.head()"
   ]
  },
  {
   "cell_type": "code",
   "execution_count": 145,
   "id": "7cd4a2c2",
   "metadata": {},
   "outputs": [
    {
     "data": {
      "text/plain": [
       "2"
      ]
     },
     "execution_count": 145,
     "metadata": {},
     "output_type": "execute_result"
    }
   ],
   "source": [
    "# Determine if the diff is within bounds for each row\n",
    "ex_diff_df['safe_rate'] = ex_diff_df.apply(lambda row: max(all(x > 0 and x <= 3 for x in row),\n",
    "                                                           all(x < 0 and x >= -3 for x in row)), axis=1)\n",
    "len(ex_diff_df.loc[ex_diff_df['safe_rate'] == True])"
   ]
  },
  {
   "cell_type": "markdown",
   "id": "1be2594e",
   "metadata": {},
   "source": [
    "### Puzzle input"
   ]
  },
  {
   "cell_type": "code",
   "execution_count": 146,
   "id": "8fbd4a24",
   "metadata": {},
   "outputs": [],
   "source": [
    "import numpy as np\n",
    "with open('Day2.input', 'r') as fin:\n",
    "    contents = fin.readlines()"
   ]
  },
  {
   "cell_type": "code",
   "execution_count": 147,
   "id": "a999fd38",
   "metadata": {},
   "outputs": [],
   "source": [
    "def safe_check(values):\n",
    "    d = np.diff(values)\n",
    "    if (np.all(d > 0) and np.all(d <= 3)) or (np.all(d < 0) and np.all(d >= -3)):\n",
    "        return True\n",
    "    else:\n",
    "        return False"
   ]
  },
  {
   "cell_type": "markdown",
   "id": "edf629a5",
   "metadata": {},
   "source": [
    "## Part 2"
   ]
  },
  {
   "cell_type": "code",
   "execution_count": 142,
   "id": "9dc78c50",
   "metadata": {},
   "outputs": [
    {
     "name": "stdout",
     "output_type": "stream",
     "text": [
      "717\n"
     ]
    }
   ],
   "source": [
    "safe_count = 0\n",
    "for line in contents:\n",
    "    line_split = np.array([int(x) for x in line.split()])\n",
    "    if (safe_check(line_split)):\n",
    "        safe_count = safe_count + 1\n",
    "        continue\n",
    "\n",
    "    # Initial sequence is unsafe. Run safe_check on values where one is removed at a time\n",
    "    for x in range(len(line_split)):\n",
    "        mask = np.array([True] * len(line_split))\n",
    "        mask[x] = False\n",
    "\n",
    "        # Test safety with mask applied\n",
    "        if safe_check(line_split[mask]):\n",
    "            safe_count = safe_count + 1\n",
    "            break\n",
    "        else:\n",
    "            pass\n",
    "\n",
    "print(safe_count)"
   ]
  },
  {
   "cell_type": "code",
   "execution_count": null,
   "id": "3e9817e3",
   "metadata": {},
   "outputs": [],
   "source": []
  },
  {
   "cell_type": "code",
   "execution_count": null,
   "id": "92d958bd",
   "metadata": {},
   "outputs": [],
   "source": []
  }
 ],
 "metadata": {
  "kernelspec": {
   "display_name": "Python 3 (ipykernel)",
   "language": "python",
   "name": "python3"
  },
  "language_info": {
   "codemirror_mode": {
    "name": "ipython",
    "version": 3
   },
   "file_extension": ".py",
   "mimetype": "text/x-python",
   "name": "python",
   "nbconvert_exporter": "python",
   "pygments_lexer": "ipython3",
   "version": "3.10.5"
  }
 },
 "nbformat": 4,
 "nbformat_minor": 5
}
