{
 "cells": [
  {
   "cell_type": "markdown",
   "id": "2eb6bf16",
   "metadata": {},
   "source": [
    "# Solve the advent of code day 1 puzzle"
   ]
  },
  {
   "cell_type": "markdown",
   "id": "685160f7",
   "metadata": {},
   "source": [
    "## Part 1"
   ]
  },
  {
   "cell_type": "markdown",
   "id": "876a15d3",
   "metadata": {},
   "source": [
    "### Example input"
   ]
  },
  {
   "cell_type": "code",
   "execution_count": 1,
   "id": "47bca1d8",
   "metadata": {},
   "outputs": [],
   "source": [
    "import pandas as pd"
   ]
  },
  {
   "cell_type": "code",
   "execution_count": 2,
   "id": "847c9a05",
   "metadata": {},
   "outputs": [
    {
     "data": {
      "text/html": [
       "<div>\n",
       "<style scoped>\n",
       "    .dataframe tbody tr th:only-of-type {\n",
       "        vertical-align: middle;\n",
       "    }\n",
       "\n",
       "    .dataframe tbody tr th {\n",
       "        vertical-align: top;\n",
       "    }\n",
       "\n",
       "    .dataframe thead th {\n",
       "        text-align: right;\n",
       "    }\n",
       "</style>\n",
       "<table border=\"1\" class=\"dataframe\">\n",
       "  <thead>\n",
       "    <tr style=\"text-align: right;\">\n",
       "      <th></th>\n",
       "      <th>col0</th>\n",
       "      <th>col1</th>\n",
       "    </tr>\n",
       "  </thead>\n",
       "  <tbody>\n",
       "    <tr>\n",
       "      <th>0</th>\n",
       "      <td>3</td>\n",
       "      <td>4</td>\n",
       "    </tr>\n",
       "    <tr>\n",
       "      <th>1</th>\n",
       "      <td>4</td>\n",
       "      <td>3</td>\n",
       "    </tr>\n",
       "    <tr>\n",
       "      <th>2</th>\n",
       "      <td>2</td>\n",
       "      <td>5</td>\n",
       "    </tr>\n",
       "    <tr>\n",
       "      <th>3</th>\n",
       "      <td>1</td>\n",
       "      <td>3</td>\n",
       "    </tr>\n",
       "    <tr>\n",
       "      <th>4</th>\n",
       "      <td>3</td>\n",
       "      <td>9</td>\n",
       "    </tr>\n",
       "  </tbody>\n",
       "</table>\n",
       "</div>"
      ],
      "text/plain": [
       "   col0  col1\n",
       "0     3     4\n",
       "1     4     3\n",
       "2     2     5\n",
       "3     1     3\n",
       "4     3     9"
      ]
     },
     "execution_count": 2,
     "metadata": {},
     "output_type": "execute_result"
    }
   ],
   "source": [
    "ex_data = pd.read_fwf('day1.example.input', header = None, names = ['col0', 'col1'])\n",
    "ex_data.head()"
   ]
  },
  {
   "cell_type": "code",
   "execution_count": 3,
   "id": "563b5194",
   "metadata": {},
   "outputs": [
    {
     "data": {
      "text/html": [
       "<div>\n",
       "<style scoped>\n",
       "    .dataframe tbody tr th:only-of-type {\n",
       "        vertical-align: middle;\n",
       "    }\n",
       "\n",
       "    .dataframe tbody tr th {\n",
       "        vertical-align: top;\n",
       "    }\n",
       "\n",
       "    .dataframe thead th {\n",
       "        text-align: right;\n",
       "    }\n",
       "</style>\n",
       "<table border=\"1\" class=\"dataframe\">\n",
       "  <thead>\n",
       "    <tr style=\"text-align: right;\">\n",
       "      <th></th>\n",
       "      <th>col0</th>\n",
       "      <th>col1</th>\n",
       "      <th>col0_lo_to_hi</th>\n",
       "      <th>col1_lo_to_hi</th>\n",
       "    </tr>\n",
       "  </thead>\n",
       "  <tbody>\n",
       "    <tr>\n",
       "      <th>0</th>\n",
       "      <td>3</td>\n",
       "      <td>4</td>\n",
       "      <td>1</td>\n",
       "      <td>3</td>\n",
       "    </tr>\n",
       "    <tr>\n",
       "      <th>1</th>\n",
       "      <td>4</td>\n",
       "      <td>3</td>\n",
       "      <td>2</td>\n",
       "      <td>3</td>\n",
       "    </tr>\n",
       "    <tr>\n",
       "      <th>2</th>\n",
       "      <td>2</td>\n",
       "      <td>5</td>\n",
       "      <td>3</td>\n",
       "      <td>3</td>\n",
       "    </tr>\n",
       "    <tr>\n",
       "      <th>3</th>\n",
       "      <td>1</td>\n",
       "      <td>3</td>\n",
       "      <td>3</td>\n",
       "      <td>4</td>\n",
       "    </tr>\n",
       "    <tr>\n",
       "      <th>4</th>\n",
       "      <td>3</td>\n",
       "      <td>9</td>\n",
       "      <td>3</td>\n",
       "      <td>5</td>\n",
       "    </tr>\n",
       "  </tbody>\n",
       "</table>\n",
       "</div>"
      ],
      "text/plain": [
       "   col0  col1  col0_lo_to_hi  col1_lo_to_hi\n",
       "0     3     4              1              3\n",
       "1     4     3              2              3\n",
       "2     2     5              3              3\n",
       "3     1     3              3              4\n",
       "4     3     9              3              5"
      ]
     },
     "execution_count": 3,
     "metadata": {},
     "output_type": "execute_result"
    }
   ],
   "source": [
    "# Sort columns\n",
    "ex_data['col0_lo_to_hi'] = ex_data['col0'].sort_values(ascending = True, ignore_index = True)\n",
    "ex_data['col1_lo_to_hi'] = ex_data['col1'].sort_values(ascending = True, ignore_index = True)\n",
    "ex_data.head()"
   ]
  },
  {
   "cell_type": "code",
   "execution_count": 4,
   "id": "01c95efe",
   "metadata": {
    "scrolled": false
   },
   "outputs": [
    {
     "data": {
      "text/plain": [
       "11"
      ]
     },
     "execution_count": 4,
     "metadata": {},
     "output_type": "execute_result"
    }
   ],
   "source": [
    "# Compute delta sum\n",
    "abs(ex_data['col0_lo_to_hi'] - ex_data['col1_lo_to_hi']).sum()"
   ]
  },
  {
   "cell_type": "markdown",
   "id": "0586d740",
   "metadata": {},
   "source": [
    "### Puzzle input"
   ]
  },
  {
   "cell_type": "code",
   "execution_count": 5,
   "id": "b0f716dc",
   "metadata": {},
   "outputs": [
    {
     "data": {
      "text/html": [
       "<div>\n",
       "<style scoped>\n",
       "    .dataframe tbody tr th:only-of-type {\n",
       "        vertical-align: middle;\n",
       "    }\n",
       "\n",
       "    .dataframe tbody tr th {\n",
       "        vertical-align: top;\n",
       "    }\n",
       "\n",
       "    .dataframe thead th {\n",
       "        text-align: right;\n",
       "    }\n",
       "</style>\n",
       "<table border=\"1\" class=\"dataframe\">\n",
       "  <thead>\n",
       "    <tr style=\"text-align: right;\">\n",
       "      <th></th>\n",
       "      <th>col0</th>\n",
       "      <th>col1</th>\n",
       "    </tr>\n",
       "  </thead>\n",
       "  <tbody>\n",
       "    <tr>\n",
       "      <th>0</th>\n",
       "      <td>98415</td>\n",
       "      <td>86712</td>\n",
       "    </tr>\n",
       "    <tr>\n",
       "      <th>1</th>\n",
       "      <td>21839</td>\n",
       "      <td>96206</td>\n",
       "    </tr>\n",
       "    <tr>\n",
       "      <th>2</th>\n",
       "      <td>14958</td>\n",
       "      <td>40971</td>\n",
       "    </tr>\n",
       "    <tr>\n",
       "      <th>3</th>\n",
       "      <td>91380</td>\n",
       "      <td>63825</td>\n",
       "    </tr>\n",
       "    <tr>\n",
       "      <th>4</th>\n",
       "      <td>48482</td>\n",
       "      <td>40971</td>\n",
       "    </tr>\n",
       "  </tbody>\n",
       "</table>\n",
       "</div>"
      ],
      "text/plain": [
       "    col0   col1\n",
       "0  98415  86712\n",
       "1  21839  96206\n",
       "2  14958  40971\n",
       "3  91380  63825\n",
       "4  48482  40971"
      ]
     },
     "execution_count": 5,
     "metadata": {},
     "output_type": "execute_result"
    }
   ],
   "source": [
    "data = pd.read_fwf('day1.input', header = None, names = ['col0', 'col1'])\n",
    "data.head()"
   ]
  },
  {
   "cell_type": "code",
   "execution_count": 6,
   "id": "80951fb4",
   "metadata": {},
   "outputs": [
    {
     "data": {
      "text/html": [
       "<div>\n",
       "<style scoped>\n",
       "    .dataframe tbody tr th:only-of-type {\n",
       "        vertical-align: middle;\n",
       "    }\n",
       "\n",
       "    .dataframe tbody tr th {\n",
       "        vertical-align: top;\n",
       "    }\n",
       "\n",
       "    .dataframe thead th {\n",
       "        text-align: right;\n",
       "    }\n",
       "</style>\n",
       "<table border=\"1\" class=\"dataframe\">\n",
       "  <thead>\n",
       "    <tr style=\"text-align: right;\">\n",
       "      <th></th>\n",
       "      <th>col0</th>\n",
       "      <th>col1</th>\n",
       "      <th>col0_lo_to_hi</th>\n",
       "      <th>col1_lo_to_hi</th>\n",
       "    </tr>\n",
       "  </thead>\n",
       "  <tbody>\n",
       "    <tr>\n",
       "      <th>0</th>\n",
       "      <td>98415</td>\n",
       "      <td>86712</td>\n",
       "      <td>10029</td>\n",
       "      <td>10138</td>\n",
       "    </tr>\n",
       "    <tr>\n",
       "      <th>1</th>\n",
       "      <td>21839</td>\n",
       "      <td>96206</td>\n",
       "      <td>10060</td>\n",
       "      <td>10152</td>\n",
       "    </tr>\n",
       "    <tr>\n",
       "      <th>2</th>\n",
       "      <td>14958</td>\n",
       "      <td>40971</td>\n",
       "      <td>10113</td>\n",
       "      <td>10331</td>\n",
       "    </tr>\n",
       "    <tr>\n",
       "      <th>3</th>\n",
       "      <td>91380</td>\n",
       "      <td>63825</td>\n",
       "      <td>10126</td>\n",
       "      <td>10409</td>\n",
       "    </tr>\n",
       "    <tr>\n",
       "      <th>4</th>\n",
       "      <td>48482</td>\n",
       "      <td>40971</td>\n",
       "      <td>10147</td>\n",
       "      <td>10695</td>\n",
       "    </tr>\n",
       "  </tbody>\n",
       "</table>\n",
       "</div>"
      ],
      "text/plain": [
       "    col0   col1  col0_lo_to_hi  col1_lo_to_hi\n",
       "0  98415  86712          10029          10138\n",
       "1  21839  96206          10060          10152\n",
       "2  14958  40971          10113          10331\n",
       "3  91380  63825          10126          10409\n",
       "4  48482  40971          10147          10695"
      ]
     },
     "execution_count": 6,
     "metadata": {},
     "output_type": "execute_result"
    }
   ],
   "source": [
    "# Sort columns\n",
    "data['col0_lo_to_hi'] = data['col0'].sort_values(ascending = True, ignore_index = True)\n",
    "data['col1_lo_to_hi'] = data['col1'].sort_values(ascending = True, ignore_index = True)\n",
    "data.head()"
   ]
  },
  {
   "cell_type": "code",
   "execution_count": 7,
   "id": "763e9abd",
   "metadata": {},
   "outputs": [
    {
     "data": {
      "text/plain": [
       "2192892"
      ]
     },
     "execution_count": 7,
     "metadata": {},
     "output_type": "execute_result"
    }
   ],
   "source": [
    "# Compute delta sum\n",
    "abs(data['col0_lo_to_hi'] - data['col1_lo_to_hi']).sum()"
   ]
  },
  {
   "cell_type": "markdown",
   "id": "0338d6ad",
   "metadata": {},
   "source": [
    "## Part 2"
   ]
  },
  {
   "cell_type": "markdown",
   "id": "e7ae1038",
   "metadata": {},
   "source": [
    "### Example input"
   ]
  },
  {
   "cell_type": "code",
   "execution_count": 39,
   "id": "d73e8058",
   "metadata": {},
   "outputs": [
    {
     "data": {
      "text/plain": [
       "3    9\n",
       "4    4\n",
       "5    5\n",
       "9    9\n",
       "dtype: int64"
      ]
     },
     "execution_count": 39,
     "metadata": {},
     "output_type": "execute_result"
    }
   ],
   "source": [
    "# Compute the similarity score for each value in col1\n",
    "ex_counts = ex_data['col1'].value_counts()\n",
    "ex_scores = ex_counts.values * ex_counts.index.to_numpy()\n",
    "ex_sim_scores = pd.Series(data = ex_scores, index = ex_counts.index)\n",
    "ex_sim_scores"
   ]
  },
  {
   "cell_type": "code",
   "execution_count": 40,
   "id": "b409d124",
   "metadata": {},
   "outputs": [
    {
     "name": "stdout",
     "output_type": "stream",
     "text": [
      "31\n"
     ]
    }
   ],
   "source": [
    "# Compute the total similarity score for all values in column 0\n",
    "ex_total_sim_score = 0\n",
    "ex_col0 = ex_data['col0'].to_list()\n",
    "for x in ex_col0:\n",
    "    try:\n",
    "        ex_sim_score = ex_sim_scores[x]\n",
    "    except KeyError:\n",
    "        continue\n",
    "    ex_total_sim_score = ex_total_sim_score + ex_sim_score\n",
    "print(ex_total_sim_score)"
   ]
  },
  {
   "cell_type": "markdown",
   "id": "9b777d34",
   "metadata": {},
   "source": [
    "### Puzzle input"
   ]
  },
  {
   "cell_type": "code",
   "execution_count": 43,
   "id": "8498789c",
   "metadata": {},
   "outputs": [],
   "source": [
    "# Compute the similarity score for each value in col1\n",
    "counts = data['col1'].value_counts()\n",
    "scores = counts.values * counts.index.to_numpy()\n",
    "sim_scores = pd.Series(data = scores, index = counts.index)"
   ]
  },
  {
   "cell_type": "code",
   "execution_count": 44,
   "id": "39ec3498",
   "metadata": {},
   "outputs": [
    {
     "name": "stdout",
     "output_type": "stream",
     "text": [
      "22962826\n"
     ]
    }
   ],
   "source": [
    "# Compute the total similarity score for all values in column 0\n",
    "total_sim_score = 0\n",
    "col0 = data['col0'].to_list()\n",
    "for x in col0:\n",
    "    try:\n",
    "        sim_score = sim_scores[x]\n",
    "    except KeyError:\n",
    "        continue\n",
    "    total_sim_score = total_sim_score + sim_score\n",
    "print(total_sim_score)"
   ]
  },
  {
   "cell_type": "code",
   "execution_count": null,
   "id": "97f49ce4",
   "metadata": {},
   "outputs": [],
   "source": []
  }
 ],
 "metadata": {
  "kernelspec": {
   "display_name": "Python 3 (ipykernel)",
   "language": "python",
   "name": "python3"
  },
  "language_info": {
   "codemirror_mode": {
    "name": "ipython",
    "version": 3
   },
   "file_extension": ".py",
   "mimetype": "text/x-python",
   "name": "python",
   "nbconvert_exporter": "python",
   "pygments_lexer": "ipython3",
   "version": "3.10.5"
  }
 },
 "nbformat": 4,
 "nbformat_minor": 5
}
